{
 "cells": [
  {
   "cell_type": "code",
   "execution_count": 21,
   "metadata": {},
   "outputs": [],
   "source": [
    "# Importamos las librerias\n",
    "\n",
    "import pandas as pd\n",
    "import numpy as np\n",
    "import seaborn as sn\n",
    "from matplotlib import pyplot as plt\n",
    "from pandas.api.types import is_string_dtype\n",
    "from pandas.api.types import is_numeric_dtype\n",
    "from kmodes.kmodes import KModes\n",
    "\n",
    "%matplotlib inline\n",
    "plt.rcParams['figure.figsize'] = [9.5, 6]"
   ]
  },
  {
   "cell_type": "code",
   "execution_count": 22,
   "metadata": {},
   "outputs": [
    {
     "data": {
      "text/html": [
       "<div>\n",
       "<style scoped>\n",
       "    .dataframe tbody tr th:only-of-type {\n",
       "        vertical-align: middle;\n",
       "    }\n",
       "\n",
       "    .dataframe tbody tr th {\n",
       "        vertical-align: top;\n",
       "    }\n",
       "\n",
       "    .dataframe thead th {\n",
       "        text-align: right;\n",
       "    }\n",
       "</style>\n",
       "<table border=\"1\" class=\"dataframe\">\n",
       "  <thead>\n",
       "    <tr style=\"text-align: right;\">\n",
       "      <th></th>\n",
       "      <th>uid</th>\n",
       "      <th>id</th>\n",
       "      <th>phone</th>\n",
       "      <th>email</th>\n",
       "      <th>first_name</th>\n",
       "      <th>last_name</th>\n",
       "      <th>gender</th>\n",
       "      <th>birthday</th>\n",
       "      <th>location</th>\n",
       "      <th>hometown</th>\n",
       "      <th>relationship_status</th>\n",
       "      <th>date</th>\n",
       "      <th>quantity</th>\n",
       "      <th>price</th>\n",
       "      <th>brand</th>\n",
       "      <th>category</th>\n",
       "      <th>type</th>\n",
       "      <th>detail</th>\n",
       "    </tr>\n",
       "  </thead>\n",
       "  <tbody>\n",
       "    <tr>\n",
       "      <th>0</th>\n",
       "      <td>100034704393808</td>\n",
       "      <td>AG2004022</td>\n",
       "      <td>XXXXXXX7647</td>\n",
       "      <td>NaN</td>\n",
       "      <td>Andres</td>\n",
       "      <td>Cuasquen</td>\n",
       "      <td>male</td>\n",
       "      <td>NaN</td>\n",
       "      <td>Tulcan</td>\n",
       "      <td>Tulcan</td>\n",
       "      <td>Single</td>\n",
       "      <td>2021-06-01</td>\n",
       "      <td>2</td>\n",
       "      <td>259.0</td>\n",
       "      <td>Elite</td>\n",
       "      <td>Accesorios</td>\n",
       "      <td>Ciclosimuladores</td>\n",
       "      <td>CICLOSIMULADOR NOVO FORCE</td>\n",
       "    </tr>\n",
       "    <tr>\n",
       "      <th>1</th>\n",
       "      <td>100010415584337</td>\n",
       "      <td>AG2004006</td>\n",
       "      <td>XXXXXXX2501</td>\n",
       "      <td>NaN</td>\n",
       "      <td>Nelson</td>\n",
       "      <td>Nazamuez</td>\n",
       "      <td>male</td>\n",
       "      <td>NaN</td>\n",
       "      <td>Tulcan</td>\n",
       "      <td>Tulcan</td>\n",
       "      <td>NaN</td>\n",
       "      <td>2021-06-01</td>\n",
       "      <td>1</td>\n",
       "      <td>265.0</td>\n",
       "      <td>Eagle</td>\n",
       "      <td>Bicicletas</td>\n",
       "      <td>Paseo</td>\n",
       "      <td>Eagle City Bike Aro 700 Cuadro Aluminio</td>\n",
       "    </tr>\n",
       "    <tr>\n",
       "      <th>2</th>\n",
       "      <td>100001924592151</td>\n",
       "      <td>AG2004001</td>\n",
       "      <td>XXXXXXX8732</td>\n",
       "      <td>NaN</td>\n",
       "      <td>Jhon</td>\n",
       "      <td>Caino</td>\n",
       "      <td>male</td>\n",
       "      <td>NaN</td>\n",
       "      <td>Tulcan</td>\n",
       "      <td>Tulcan</td>\n",
       "      <td>NaN</td>\n",
       "      <td>2021-06-01</td>\n",
       "      <td>2</td>\n",
       "      <td>16.0</td>\n",
       "      <td>Shimano</td>\n",
       "      <td>Accesorios</td>\n",
       "      <td>Discos</td>\n",
       "      <td>Disco SHIMANO TX SM-RT10</td>\n",
       "    </tr>\n",
       "    <tr>\n",
       "      <th>3</th>\n",
       "      <td>100010415584337</td>\n",
       "      <td>AG2004024</td>\n",
       "      <td>XXXXXXX2501</td>\n",
       "      <td>NaN</td>\n",
       "      <td>Nelson</td>\n",
       "      <td>Nazamuez</td>\n",
       "      <td>male</td>\n",
       "      <td>NaN</td>\n",
       "      <td>Tulcan</td>\n",
       "      <td>Tulcan</td>\n",
       "      <td>NaN</td>\n",
       "      <td>2021-06-01</td>\n",
       "      <td>2</td>\n",
       "      <td>75.0</td>\n",
       "      <td>Lazer</td>\n",
       "      <td>Casco</td>\n",
       "      <td>Sport</td>\n",
       "      <td>CASCO JACKAL /MIPS</td>\n",
       "    </tr>\n",
       "    <tr>\n",
       "      <th>4</th>\n",
       "      <td>100000396260059</td>\n",
       "      <td>AG2004015</td>\n",
       "      <td>XXXXXXX4510</td>\n",
       "      <td>NaN</td>\n",
       "      <td>Cristofer</td>\n",
       "      <td>Rodriguez Portilla</td>\n",
       "      <td>male</td>\n",
       "      <td>06/10/1986</td>\n",
       "      <td>Tulcan</td>\n",
       "      <td>Tulcan</td>\n",
       "      <td>Married</td>\n",
       "      <td>2021-06-01</td>\n",
       "      <td>1</td>\n",
       "      <td>475.0</td>\n",
       "      <td>Giant</td>\n",
       "      <td>Bicicletas</td>\n",
       "      <td>Montanera</td>\n",
       "      <td>Talon 4 Aro 29 Aluminio</td>\n",
       "    </tr>\n",
       "  </tbody>\n",
       "</table>\n",
       "</div>"
      ],
      "text/plain": [
       "               uid         id        phone email first_name  \\\n",
       "0  100034704393808  AG2004022  XXXXXXX7647   NaN     Andres   \n",
       "1  100010415584337  AG2004006  XXXXXXX2501   NaN     Nelson   \n",
       "2  100001924592151  AG2004001  XXXXXXX8732   NaN       Jhon   \n",
       "3  100010415584337  AG2004024  XXXXXXX2501   NaN     Nelson   \n",
       "4  100000396260059  AG2004015  XXXXXXX4510   NaN  Cristofer   \n",
       "\n",
       "            last_name gender    birthday location hometown  \\\n",
       "0            Cuasquen   male         NaN   Tulcan   Tulcan   \n",
       "1            Nazamuez   male         NaN   Tulcan   Tulcan   \n",
       "2               Caino   male         NaN   Tulcan   Tulcan   \n",
       "3            Nazamuez   male         NaN   Tulcan   Tulcan   \n",
       "4  Rodriguez Portilla   male  06/10/1986   Tulcan   Tulcan   \n",
       "\n",
       "  relationship_status        date  quantity  price    brand    category  \\\n",
       "0              Single  2021-06-01         2  259.0    Elite  Accesorios   \n",
       "1                 NaN  2021-06-01         1  265.0    Eagle  Bicicletas   \n",
       "2                 NaN  2021-06-01         2   16.0  Shimano  Accesorios   \n",
       "3                 NaN  2021-06-01         2   75.0    Lazer       Casco   \n",
       "4             Married  2021-06-01         1  475.0    Giant  Bicicletas   \n",
       "\n",
       "               type                                   detail  \n",
       "0  Ciclosimuladores                CICLOSIMULADOR NOVO FORCE  \n",
       "1             Paseo  Eagle City Bike Aro 700 Cuadro Aluminio  \n",
       "2            Discos                 Disco SHIMANO TX SM-RT10  \n",
       "3             Sport                       CASCO JACKAL /MIPS  \n",
       "4         Montanera                  Talon 4 Aro 29 Aluminio  "
      ]
     },
     "execution_count": 22,
     "metadata": {},
     "output_type": "execute_result"
    }
   ],
   "source": [
    "# Obtenemos lod datos del archivo de ventas de bibicletas\n",
    "df = pd.read_csv('compradores_clean.csv')\n",
    "df.head()"
   ]
  },
  {
   "cell_type": "code",
   "execution_count": 23,
   "metadata": {},
   "outputs": [
    {
     "data": {
      "text/plain": [
       "gender                 object\n",
       "relationship_status    object\n",
       "quantity                int64\n",
       "brand                  object\n",
       "category               object\n",
       "type                   object\n",
       "priceBins              object\n",
       "dtype: object"
      ]
     },
     "execution_count": 23,
     "metadata": {},
     "output_type": "execute_result"
    }
   ],
   "source": [
    "df['priceBins'] = pd.cut(df['price'],10)\n",
    "df['priceBins'] = df['priceBins'].astype('str')\n",
    "df.drop(['uid', 'id','phone','email','first_name','last_name','birthday','date','location','hometown','detail','price'], axis=1, inplace=True)\n",
    "df.dtypes"
   ]
  },
  {
   "cell_type": "code",
   "execution_count": 24,
   "metadata": {},
   "outputs": [
    {
     "name": "stdout",
     "output_type": "stream",
     "text": [
      "gender\t{'male': 0, 'female': 1, nan: 2}\n",
      "relationship_status\t{'Single': 0, nan: 1, 'Married': 2, 'Engaged': 3, 'Separated': 4, 'In a relationship': 5, \"It's complicated\": 6, 'In a civil union': 7, 'Divorced': 8}\n",
      "brand\t{'Elite': 0, 'Eagle': 1, 'Shimano': 2, 'Lazer': 3, 'Giant': 4, 'Pro': 5, 'Twitter': 6}\n",
      "category\t{'Accesorios': 0, 'Bicicletas': 1, 'Casco': 2}\n",
      "type\t{'Ciclosimuladores': 0, 'Paseo': 1, 'Discos': 2, 'Sport': 3, 'Montanera': 4, 'Ruta': 5, 'Timones': 6, 'Gafas': 7, 'Monturas': 8, 'TT/TRI/TRACK': 9, 'Montanera ': 10, 'Grips': 11, 'Zapatillas': 12}\n",
      "priceBins\t{'(142.2, 276.4]': 0, '(6.658, 142.2]': 1, '(410.6, 544.8]': 2, '(1215.8, 1350.0]': 3, '(276.4, 410.6]': 4, '(947.4, 1081.6]': 5, '(813.2, 947.4]': 6, '(544.8, 679.0]': 7}\n"
     ]
    },
    {
     "data": {
      "text/html": [
       "<div>\n",
       "<style scoped>\n",
       "    .dataframe tbody tr th:only-of-type {\n",
       "        vertical-align: middle;\n",
       "    }\n",
       "\n",
       "    .dataframe tbody tr th {\n",
       "        vertical-align: top;\n",
       "    }\n",
       "\n",
       "    .dataframe thead th {\n",
       "        text-align: right;\n",
       "    }\n",
       "</style>\n",
       "<table border=\"1\" class=\"dataframe\">\n",
       "  <thead>\n",
       "    <tr style=\"text-align: right;\">\n",
       "      <th></th>\n",
       "      <th>gender</th>\n",
       "      <th>relationship_status</th>\n",
       "      <th>quantity</th>\n",
       "      <th>brand</th>\n",
       "      <th>category</th>\n",
       "      <th>type</th>\n",
       "      <th>priceBins</th>\n",
       "    </tr>\n",
       "  </thead>\n",
       "  <tbody>\n",
       "    <tr>\n",
       "      <th>count</th>\n",
       "      <td>2220.000000</td>\n",
       "      <td>2220.000000</td>\n",
       "      <td>2220.000000</td>\n",
       "      <td>2220.000000</td>\n",
       "      <td>2220.000000</td>\n",
       "      <td>2220.000000</td>\n",
       "      <td>2220.000000</td>\n",
       "    </tr>\n",
       "    <tr>\n",
       "      <th>mean</th>\n",
       "      <td>0.519369</td>\n",
       "      <td>1.213514</td>\n",
       "      <td>1.177928</td>\n",
       "      <td>3.351351</td>\n",
       "      <td>0.612162</td>\n",
       "      <td>4.782432</td>\n",
       "      <td>1.868018</td>\n",
       "    </tr>\n",
       "    <tr>\n",
       "      <th>std</th>\n",
       "      <td>0.595978</td>\n",
       "      <td>1.145321</td>\n",
       "      <td>0.382538</td>\n",
       "      <td>1.955562</td>\n",
       "      <td>0.685612</td>\n",
       "      <td>3.347658</td>\n",
       "      <td>1.534980</td>\n",
       "    </tr>\n",
       "    <tr>\n",
       "      <th>min</th>\n",
       "      <td>0.000000</td>\n",
       "      <td>0.000000</td>\n",
       "      <td>1.000000</td>\n",
       "      <td>0.000000</td>\n",
       "      <td>0.000000</td>\n",
       "      <td>0.000000</td>\n",
       "      <td>0.000000</td>\n",
       "    </tr>\n",
       "    <tr>\n",
       "      <th>25%</th>\n",
       "      <td>0.000000</td>\n",
       "      <td>1.000000</td>\n",
       "      <td>1.000000</td>\n",
       "      <td>2.000000</td>\n",
       "      <td>0.000000</td>\n",
       "      <td>2.000000</td>\n",
       "      <td>1.000000</td>\n",
       "    </tr>\n",
       "    <tr>\n",
       "      <th>50%</th>\n",
       "      <td>0.000000</td>\n",
       "      <td>1.000000</td>\n",
       "      <td>1.000000</td>\n",
       "      <td>3.000000</td>\n",
       "      <td>0.000000</td>\n",
       "      <td>4.000000</td>\n",
       "      <td>1.000000</td>\n",
       "    </tr>\n",
       "    <tr>\n",
       "      <th>75%</th>\n",
       "      <td>1.000000</td>\n",
       "      <td>1.000000</td>\n",
       "      <td>1.000000</td>\n",
       "      <td>5.000000</td>\n",
       "      <td>1.000000</td>\n",
       "      <td>7.000000</td>\n",
       "      <td>3.000000</td>\n",
       "    </tr>\n",
       "    <tr>\n",
       "      <th>max</th>\n",
       "      <td>2.000000</td>\n",
       "      <td>8.000000</td>\n",
       "      <td>2.000000</td>\n",
       "      <td>6.000000</td>\n",
       "      <td>2.000000</td>\n",
       "      <td>12.000000</td>\n",
       "      <td>7.000000</td>\n",
       "    </tr>\n",
       "  </tbody>\n",
       "</table>\n",
       "</div>"
      ],
      "text/plain": [
       "            gender  relationship_status     quantity        brand  \\\n",
       "count  2220.000000          2220.000000  2220.000000  2220.000000   \n",
       "mean      0.519369             1.213514     1.177928     3.351351   \n",
       "std       0.595978             1.145321     0.382538     1.955562   \n",
       "min       0.000000             0.000000     1.000000     0.000000   \n",
       "25%       0.000000             1.000000     1.000000     2.000000   \n",
       "50%       0.000000             1.000000     1.000000     3.000000   \n",
       "75%       1.000000             1.000000     1.000000     5.000000   \n",
       "max       2.000000             8.000000     2.000000     6.000000   \n",
       "\n",
       "          category         type    priceBins  \n",
       "count  2220.000000  2220.000000  2220.000000  \n",
       "mean      0.612162     4.782432     1.868018  \n",
       "std       0.685612     3.347658     1.534980  \n",
       "min       0.000000     0.000000     0.000000  \n",
       "25%       0.000000     2.000000     1.000000  \n",
       "50%       0.000000     4.000000     1.000000  \n",
       "75%       1.000000     7.000000     3.000000  \n",
       "max       2.000000    12.000000     7.000000  "
      ]
     },
     "execution_count": 24,
     "metadata": {},
     "output_type": "execute_result"
    }
   ],
   "source": [
    "# Obtenemos la matriz intercambiando numeros en lugar de strings\n",
    "df1 = pd.DataFrame()\n",
    "for col in df:\n",
    "    if is_string_dtype(df[col]): # si es que la columna es de strings\n",
    "        print(col, end = '\\t')\n",
    "        uniqueVals = df[col].unique() # obtener cuantos strings diferentes hay\n",
    "        mymap = dict(zip(uniqueVals, range(len(uniqueVals)))) # crear un diccionario con los elementos\n",
    "        print(mymap)\n",
    "        df1[col] = df[col].replace(mymap) # Aplicar el diccionario a la columna\n",
    "    else:\n",
    "        df1[col] = df[col]\n",
    "df1.describe(include='all')"
   ]
  },
  {
   "cell_type": "code",
   "execution_count": 25,
   "metadata": {},
   "outputs": [
    {
     "data": {
      "image/png": "[encoded data removed]",
      "text/plain": [
       "<Figure size 684x432 with 2 Axes>"
      ]
     },
     "metadata": {
      "needs_background": "light"
     },
     "output_type": "display_data"
    }
   ],
   "source": [
    "# hacemos la matriz de correlacion\n",
    "corrMatrix = df1.corr()\n",
    "sn.heatmap(corrMatrix, annot=True)\n",
    "plt.show()"
   ]
  },
  {
   "cell_type": "code",
   "execution_count": 26,
   "metadata": {},
   "outputs": [],
   "source": [
    "# Hacemos una copia del df\n",
    "dfCopy = df1.copy()"
   ]
  },
  {
   "cell_type": "code",
   "execution_count": 27,
   "metadata": {},
   "outputs": [
    {
     "name": "stdout",
     "output_type": "stream",
     "text": [
      "Init: initializing centroids\n",
      "Init: initializing clusters\n",
      "Starting iterations...\n",
      "Run 1, iteration: 1/100, moves: 0, cost: 7821.0\n",
      "Init: initializing centroids\n",
      "Init: initializing clusters\n",
      "Starting iterations...\n",
      "Run 1, iteration: 1/100, moves: 148, cost: 6018.0\n",
      "Init: initializing centroids\n",
      "Init: initializing clusters\n",
      "Starting iterations...\n",
      "Run 1, iteration: 1/100, moves: 235, cost: 5316.0\n",
      "Run 1, iteration: 2/100, moves: 0, cost: 5316.0\n",
      "Init: initializing centroids\n",
      "Init: initializing clusters\n",
      "Starting iterations...\n",
      "Run 1, iteration: 1/100, moves: 195, cost: 4868.0\n",
      "Run 1, iteration: 2/100, moves: 160, cost: 4831.0\n",
      "Run 1, iteration: 3/100, moves: 0, cost: 4831.0\n"
     ]
    }
   ],
   "source": [
    "# Probamos el init Cao\n",
    "cost = []\n",
    "for num_clusters in list(range(1,5)):\n",
    "    kmode = KModes(n_clusters=num_clusters, init = \"Cao\", n_init = 1, verbose=1)\n",
    "    kmode.fit_predict(df1)\n",
    "    cost.append(kmode.cost_)"
   ]
  },
  {
   "cell_type": "code",
   "execution_count": 28,
   "metadata": {},
   "outputs": [
    {
     "data": {
      "text/plain": [
       "[<matplotlib.lines.Line2D at 0x7f4fe164a7a0>]"
      ]
     },
     "execution_count": 28,
     "metadata": {},
     "output_type": "execute_result"
    },
    {
     "data": {
      "image/png": "[encoded data removed]",
      "text/plain": [
       "<Figure size 684x432 with 1 Axes>"
      ]
     },
     "metadata": {
      "needs_background": "light"
     },
     "output_type": "display_data"
    }
   ],
   "source": [
    "y = np.array([i for i in range(1,5,1)])\n",
    "plt.plot(y,cost)"
   ]
  },
  {
   "cell_type": "code",
   "execution_count": 29,
   "metadata": {},
   "outputs": [
    {
     "name": "stdout",
     "output_type": "stream",
     "text": [
      "Init: initializing centroids\n",
      "Init: initializing clusters\n",
      "Starting iterations...\n",
      "Run 1, iteration: 1/100, moves: 0, cost: 7821.0\n",
      "Init: initializing centroids\n",
      "Init: initializing clusters\n",
      "Starting iterations...\n",
      "Run 1, iteration: 1/100, moves: 839, cost: 6433.0\n",
      "Run 1, iteration: 2/100, moves: 479, cost: 6230.0\n",
      "Run 1, iteration: 3/100, moves: 6, cost: 6230.0\n",
      "Init: initializing centroids\n",
      "Init: initializing clusters\n",
      "Starting iterations...\n",
      "Run 1, iteration: 1/100, moves: 395, cost: 5271.0\n",
      "Run 1, iteration: 2/100, moves: 9, cost: 5271.0\n",
      "Init: initializing centroids\n",
      "Init: initializing clusters\n",
      "Starting iterations...\n",
      "Run 1, iteration: 1/100, moves: 475, cost: 4612.0\n",
      "Run 1, iteration: 2/100, moves: 3, cost: 4612.0\n"
     ]
    }
   ],
   "source": [
    "# Probamos el init Huang\n",
    "cost = []\n",
    "for num_clusters in list(range(1,5)):\n",
    "    kmode = KModes(n_clusters=num_clusters, init = \"Huang\", n_init = 1, verbose=1)\n",
    "    kmode.fit_predict(df1)\n",
    "    cost.append(kmode.cost_)"
   ]
  },
  {
   "cell_type": "code",
   "execution_count": 30,
   "metadata": {},
   "outputs": [
    {
     "data": {
      "text/plain": [
       "[<matplotlib.lines.Line2D at 0x7f4fe16c1ba0>]"
      ]
     },
     "execution_count": 30,
     "metadata": {},
     "output_type": "execute_result"
    },
    {
     "data": {
      "image/png": "[encoded data removed]",
      "text/plain": [
       "<Figure size 684x432 with 1 Axes>"
      ]
     },
     "metadata": {
      "needs_background": "light"
     },
     "output_type": "display_data"
    }
   ],
   "source": [
    "y = np.array([i for i in range(1,5,1)])\n",
    "plt.plot(y,cost)"
   ]
  },
  {
   "cell_type": "code",
   "execution_count": 31,
   "metadata": {},
   "outputs": [
    {
     "name": "stdout",
     "output_type": "stream",
     "text": [
      "Init: initializing centroids\n",
      "Init: initializing clusters\n",
      "Starting iterations...\n",
      "Run 1, iteration: 1/100, moves: 0, cost: 7821.0\n",
      "Init: initializing centroids\n",
      "Init: initializing clusters\n",
      "Starting iterations...\n",
      "Run 1, iteration: 1/100, moves: 846, cost: 6684.0\n",
      "Run 1, iteration: 2/100, moves: 99, cost: 6684.0\n",
      "Init: initializing centroids\n",
      "Init: initializing clusters\n",
      "Starting iterations...\n",
      "Run 1, iteration: 1/100, moves: 38, cost: 5536.0\n",
      "Init: initializing centroids\n",
      "Init: initializing clusters\n",
      "Starting iterations...\n",
      "Run 1, iteration: 1/100, moves: 206, cost: 4979.0\n"
     ]
    }
   ],
   "source": [
    "# determinar numero de clustersg\n",
    "clust = []\n",
    "for num_clusters in list(range(1,5)):\n",
    "    kmode = KModes(n_clusters=num_clusters, init = \"Huang\", n_init = 1, verbose=1)\n",
    "    pred = kmode.fit_predict(df1)\n",
    "    clust.append(pred)"
   ]
  },
  {
   "cell_type": "code",
   "execution_count": 32,
   "metadata": {},
   "outputs": [],
   "source": [
    "# Combining the predicted clusters with the original DF 1 custer\n",
    "df1 = dfCopy.reset_index()\n",
    "\n",
    "clustersDf = pd.DataFrame(clust[0])\n",
    "clustersDf.columns = ['cluster_predicted']\n",
    "combinedDf = pd.concat([df1, clustersDf], axis = 1).reset_index()\n",
    "combinedDf = combinedDf.drop(['index', 'level_0'], axis = 1)\n"
   ]
  },
  {
   "cell_type": "code",
   "execution_count": 33,
   "metadata": {},
   "outputs": [
    {
     "name": "stdout",
     "output_type": "stream",
     "text": [
      "priceBins\t\n",
      "{'(142.2, 276.4]': 0, '(6.658, 142.2]': 1, \n",
      "'(410.6, 544.8]': 2, '(1215.8, 1350.0]': 3, \n",
      "'(276.4, 410.6]': 4, '(947.4, 1081.6]': 5, \n",
      "'(813.2, 947.4]': 6, '(544.8, 679.0]': 7}\n",
      "En el cluster 0 hay: \n",
      "priceBins\n",
      "1            55.990991\n",
      "3            15.225225\n",
      "2            10.495495\n",
      "0             5.990991\n",
      "4             4.099099\n",
      "5             3.738739\n",
      "7             2.297297\n",
      "6             2.162162\n",
      "dtype: float64\n"
     ]
    }
   ],
   "source": [
    "print(\"\"\"priceBins\t\n",
    "{'(142.2, 276.4]': 0, '(6.658, 142.2]': 1, \n",
    "'(410.6, 544.8]': 2, '(1215.8, 1350.0]': 3, \n",
    "'(276.4, 410.6]': 4, '(947.4, 1081.6]': 5, \n",
    "'(813.2, 947.4]': 6, '(544.8, 679.0]': 7}\"\"\")\n",
    "for cluster in combinedDf['cluster_predicted'].unique():\n",
    "    personasenCluster = combinedDf[combinedDf['cluster_predicted'] == cluster]\n",
    "    print('En el cluster '+str(cluster)+' hay: ')\n",
    "    print(str(personasenCluster[['priceBins']].value_counts(normalize=True) * 100))"
   ]
  },
  {
   "cell_type": "code",
   "execution_count": 34,
   "metadata": {},
   "outputs": [
    {
     "name": "stdout",
     "output_type": "stream",
     "text": [
      "En el cluster 1 hay: \n",
      "priceBins\n",
      "1            80.437956\n",
      "3            11.678832\n",
      "0             7.883212\n",
      "dtype: float64\n",
      "En el cluster 0 hay: \n",
      "priceBins\n",
      "1            45.081433\n",
      "3            16.807818\n",
      "2            15.179153\n",
      "4             5.928339\n",
      "5             5.407166\n",
      "0             5.146580\n",
      "7             3.322476\n",
      "6             3.127036\n",
      "dtype: float64\n"
     ]
    }
   ],
   "source": [
    "# Combining the predicted clusters with the original DF 2 custer\n",
    "df1 = dfCopy.reset_index()\n",
    "\n",
    "clustersDf = pd.DataFrame(clust[1])\n",
    "clustersDf.columns = ['cluster_predicted']\n",
    "combinedDf = pd.concat([df1, clustersDf], axis = 1).reset_index()\n",
    "combinedDf = combinedDf.drop(['index', 'level_0'], axis = 1)\n",
    "\n",
    "for cluster in combinedDf['cluster_predicted'].unique():\n",
    "    personasenCluster = combinedDf[combinedDf['cluster_predicted'] == cluster]\n",
    "    print('En el cluster '+str(cluster)+' hay: ')\n",
    "    print(str(personasenCluster[['priceBins']].value_counts(normalize=True) * 100))"
   ]
  },
  {
   "cell_type": "code",
   "execution_count": 35,
   "metadata": {},
   "outputs": [
    {
     "name": "stdout",
     "output_type": "stream",
     "text": [
      "En el cluster 1 hay: \n",
      "priceBins\n",
      "1            49.514563\n",
      "3            20.064725\n",
      "0            17.152104\n",
      "4             7.443366\n",
      "2             5.825243\n",
      "dtype: float64\n",
      "En el cluster 2 hay: \n",
      "priceBins\n",
      "3            32.442748\n",
      "2            27.353690\n",
      "5            10.559796\n",
      "4             8.651399\n",
      "0             8.396947\n",
      "7             6.488550\n",
      "6             6.106870\n",
      "dtype: float64\n",
      "En el cluster 0 hay: \n",
      "priceBins\n",
      "1            96.888889\n",
      "3             1.866667\n",
      "0             1.244444\n",
      "dtype: float64\n"
     ]
    }
   ],
   "source": [
    "# Combining the predicted clusters with the original DF 3 custer\n",
    "df1 = dfCopy.reset_index()\n",
    "\n",
    "clustersDf = pd.DataFrame(clust[2])\n",
    "clustersDf.columns = ['cluster_predicted']\n",
    "combinedDf = pd.concat([df1, clustersDf], axis = 1).reset_index()\n",
    "combinedDf = combinedDf.drop(['index', 'level_0'], axis = 1)\n",
    "\n",
    "for cluster in combinedDf['cluster_predicted'].unique():\n",
    "    personasenCluster = combinedDf[combinedDf['cluster_predicted'] == cluster]\n",
    "    print('En el cluster '+str(cluster)+' hay: ')\n",
    "    print(str(personasenCluster[['priceBins']].value_counts(normalize=True) * 100))"
   ]
  },
  {
   "cell_type": "code",
   "execution_count": 36,
   "metadata": {},
   "outputs": [
    {
     "name": "stdout",
     "output_type": "stream",
     "text": [
      "En el cluster 2 hay: \n",
      "priceBins\n",
      "1            48.936170\n",
      "3            25.106383\n",
      "0            19.148936\n",
      "2             3.829787\n",
      "4             2.978723\n",
      "dtype: float64\n",
      "En el cluster 1 hay: \n",
      "priceBins\n",
      "3            31.386861\n",
      "2            27.250608\n",
      "4            10.218978\n",
      "5            10.097324\n",
      "0             9.002433\n",
      "7             6.204380\n",
      "6             5.839416\n",
      "dtype: float64\n",
      "En el cluster 0 hay: \n",
      "priceBins\n",
      "1            95.813397\n",
      "3             2.511962\n",
      "0             1.674641\n",
      "dtype: float64\n",
      "En el cluster 3 hay: \n",
      "priceBins\n",
      "1            100.0\n",
      "dtype: float64\n"
     ]
    }
   ],
   "source": [
    "# Combining the predicted clusters with the original DF 4 custer\n",
    "df1 = dfCopy.reset_index()\n",
    "\n",
    "clustersDf = pd.DataFrame(clust[3])\n",
    "clustersDf.columns = ['cluster_predicted']\n",
    "combinedDf = pd.concat([df1, clustersDf], axis = 1).reset_index()\n",
    "combinedDf = combinedDf.drop(['index', 'level_0'], axis = 1)\n",
    "\n",
    "for cluster in combinedDf['cluster_predicted'].unique():\n",
    "    personasenCluster = combinedDf[combinedDf['cluster_predicted'] == cluster]\n",
    "    print('En el cluster '+str(cluster)+' hay: ')\n",
    "    print(str(personasenCluster[['priceBins']].value_counts(normalize=True) * 100))"
   ]
  },
  {
   "cell_type": "code",
   "execution_count": 37,
   "metadata": {},
   "outputs": [
    {
     "name": "stdout",
     "output_type": "stream",
     "text": [
      "Init: initializing centroids\n",
      "Init: initializing clusters\n",
      "Starting iterations...\n",
      "Run 1, iteration: 1/100, moves: 289, cost: 7514.0\n",
      "Run 1, iteration: 2/100, moves: 53, cost: 7514.0\n"
     ]
    }
   ],
   "source": [
    "km_huang = KModes(n_clusters=4, init = \"Huang\", n_init = 1, verbose=1)\n",
    "fitClusters_huang = km_huang.fit_predict(df1)"
   ]
  },
  {
   "cell_type": "code",
   "execution_count": 38,
   "metadata": {},
   "outputs": [
    {
     "data": {
      "text/html": [
       "<div>\n",
       "<style scoped>\n",
       "    .dataframe tbody tr th:only-of-type {\n",
       "        vertical-align: middle;\n",
       "    }\n",
       "\n",
       "    .dataframe tbody tr th {\n",
       "        vertical-align: top;\n",
       "    }\n",
       "\n",
       "    .dataframe thead th {\n",
       "        text-align: right;\n",
       "    }\n",
       "</style>\n",
       "<table border=\"1\" class=\"dataframe\">\n",
       "  <thead>\n",
       "    <tr style=\"text-align: right;\">\n",
       "      <th></th>\n",
       "      <th>index</th>\n",
       "      <th>gender</th>\n",
       "      <th>relationship_status</th>\n",
       "      <th>quantity</th>\n",
       "      <th>brand</th>\n",
       "      <th>category</th>\n",
       "      <th>type</th>\n",
       "      <th>priceBins</th>\n",
       "    </tr>\n",
       "  </thead>\n",
       "  <tbody>\n",
       "    <tr>\n",
       "      <th>0</th>\n",
       "      <td>0.0</td>\n",
       "      <td>0.0</td>\n",
       "      <td>1.0</td>\n",
       "      <td>1.0</td>\n",
       "      <td>4.0</td>\n",
       "      <td>1.0</td>\n",
       "      <td>4.0</td>\n",
       "      <td>2.0</td>\n",
       "    </tr>\n",
       "    <tr>\n",
       "      <th>1</th>\n",
       "      <td>6.0</td>\n",
       "      <td>0.0</td>\n",
       "      <td>1.0</td>\n",
       "      <td>1.0</td>\n",
       "      <td>2.0</td>\n",
       "      <td>0.0</td>\n",
       "      <td>2.0</td>\n",
       "      <td>1.0</td>\n",
       "    </tr>\n",
       "    <tr>\n",
       "      <th>2</th>\n",
       "      <td>2.0</td>\n",
       "      <td>1.0</td>\n",
       "      <td>1.0</td>\n",
       "      <td>2.0</td>\n",
       "      <td>2.0</td>\n",
       "      <td>0.0</td>\n",
       "      <td>2.0</td>\n",
       "      <td>1.0</td>\n",
       "    </tr>\n",
       "    <tr>\n",
       "      <th>3</th>\n",
       "      <td>13.0</td>\n",
       "      <td>1.0</td>\n",
       "      <td>1.0</td>\n",
       "      <td>1.0</td>\n",
       "      <td>6.0</td>\n",
       "      <td>1.0</td>\n",
       "      <td>5.0</td>\n",
       "      <td>3.0</td>\n",
       "    </tr>\n",
       "  </tbody>\n",
       "</table>\n",
       "</div>"
      ],
      "text/plain": [
       "   index  gender  relationship_status  quantity  brand  category  type  \\\n",
       "0    0.0     0.0                  1.0       1.0    4.0       1.0   4.0   \n",
       "1    6.0     0.0                  1.0       1.0    2.0       0.0   2.0   \n",
       "2    2.0     1.0                  1.0       2.0    2.0       0.0   2.0   \n",
       "3   13.0     1.0                  1.0       1.0    6.0       1.0   5.0   \n",
       "\n",
       "   priceBins  \n",
       "0        2.0  \n",
       "1        1.0  \n",
       "2        1.0  \n",
       "3        3.0  "
      ]
     },
     "execution_count": 38,
     "metadata": {},
     "output_type": "execute_result"
    }
   ],
   "source": [
    "# Determinar la moda \n",
    "clusterCentroidsDf = pd.DataFrame(km_huang.cluster_centroids_)\n",
    "clusterCentroidsDf.columns = df1.columns\n",
    "clusterCentroidsDf\n"
   ]
  },
  {
   "cell_type": "code",
   "execution_count": 39,
   "metadata": {},
   "outputs": [
    {
     "name": "stdout",
     "output_type": "stream",
     "text": [
      "En el cluster 0 hay 318.4265010351967 porciento de compradores\n",
      "En el cluster 2 hay 95.5223880597015 porciento de compradores\n",
      "En el cluster 1 hay 103.30578512396694 porciento de compradores\n",
      "En el cluster 3 hay 313.2315521628499 porciento de compradores\n"
     ]
    }
   ],
   "source": [
    "# Combining the predicted clusters with the original DF 2 custer\n",
    "df1 = dfCopy.reset_index()\n",
    "\n",
    "clustersDf = pd.DataFrame(fitClusters_huang)\n",
    "clustersDf.columns = ['cluster_predicted']\n",
    "combinedDf = pd.concat([df1, clustersDf], axis = 1).reset_index()\n",
    "combinedDf = combinedDf.drop(['index', 'level_0'], axis = 1)\n",
    "\n",
    "for cluster in combinedDf['cluster_predicted'].unique():\n",
    "    personasenCluster = combinedDf[combinedDf['cluster_predicted'] == cluster]\n",
    "    compradores = personasenCluster[['priceBins']].sum()\n",
    "    noCompradores = personasenCluster[['priceBins']].count() - compradores\n",
    "    porcentajeCompra = compradores*100 /(compradores + noCompradores)\n",
    "    print('En el cluster '+str(cluster)+' hay '+str(porcentajeCompra[0])+' porciento de compradores')"
   ]
  },
  {
   "cell_type": "code",
   "execution_count": 40,
   "metadata": {},
   "outputs": [],
   "source": [
    "combinedDf.to_csv('FinalWithClusters.csv',index=False)"
   ]
  }
 ],
 "metadata": {
  "interpreter": {
   "hash": "ac59ebe37160ed0dfa835113d9b8498d9f09ceb179beaac4002f036b9467c963"
  },
  "kernelspec": {
   "display_name": "Python 3.9.5 64-bit",
   "name": "python3"
  },
  "language_info": {
   "codemirror_mode": {
    "name": "ipython",
    "version": 3
   },
   "file_extension": ".py",
   "mimetype": "text/x-python",
   "name": "python",
   "nbconvert_exporter": "python",
   "pygments_lexer": "ipython3",
   "version": "3.10.2"
  },
  "metadata": {
   "interpreter": {
    "hash": "aee8b7b246df8f9039afb4144a1f6fd8d2ca17a180786b69acc140d282b71a49"
   }
  },
  "orig_nbformat": 2
 },
 "nbformat": 4,
 "nbformat_minor": 2
}
