{
 "cells": [
  {
   "cell_type": "code",
   "execution_count": 17,
   "metadata": {},
   "outputs": [
    {
     "name": "stdout",
     "output_type": "stream",
     "text": [
      "Defaulting to user installation because normal site-packages is not writeable\n",
      "Requirement already satisfied: seaborn in /home/statick/.local/lib/python3.10/site-packages (0.11.2)\n",
      "Requirement already satisfied: pandas>=0.23 in /home/statick/.local/lib/python3.10/site-packages (from seaborn) (1.4.2)\n",
      "Requirement already satisfied: matplotlib>=2.2 in /home/statick/.local/lib/python3.10/site-packages (from seaborn) (3.5.1)\n",
      "Requirement already satisfied: numpy>=1.15 in /home/statick/.local/lib/python3.10/site-packages (from seaborn) (1.22.3)\n",
      "Requirement already satisfied: scipy>=1.0 in /home/statick/.local/lib/python3.10/site-packages (from seaborn) (1.8.0)\n",
      "Requirement already satisfied: fonttools>=4.22.0 in /home/statick/.local/lib/python3.10/site-packages (from matplotlib>=2.2->seaborn) (4.32.0)\n",
      "Requirement already satisfied: packaging>=20.0 in /usr/lib/python3.10/site-packages (from matplotlib>=2.2->seaborn) (20.9)\n",
      "Requirement already satisfied: cycler>=0.10 in /home/statick/.local/lib/python3.10/site-packages (from matplotlib>=2.2->seaborn) (0.11.0)\n",
      "Requirement already satisfied: python-dateutil>=2.7 in /home/statick/.local/lib/python3.10/site-packages (from matplotlib>=2.2->seaborn) (2.8.2)\n",
      "Requirement already satisfied: pillow>=6.2.0 in /usr/lib/python3.10/site-packages (from matplotlib>=2.2->seaborn) (9.0.1)\n",
      "Requirement already satisfied: pyparsing>=2.2.1 in /usr/lib/python3.10/site-packages (from matplotlib>=2.2->seaborn) (3.0.1)\n",
      "Requirement already satisfied: kiwisolver>=1.0.1 in /home/statick/.local/lib/python3.10/site-packages (from matplotlib>=2.2->seaborn) (1.4.2)\n",
      "Requirement already satisfied: pytz>=2020.1 in /home/statick/.local/lib/python3.10/site-packages (from pandas>=0.23->seaborn) (2022.1)\n",
      "Requirement already satisfied: six>=1.5 in /usr/lib/python3.10/site-packages (from python-dateutil>=2.7->matplotlib>=2.2->seaborn) (1.16.0)\n"
     ]
    }
   ],
   "source": [
    "!pip3 install seaborn\n",
    "import pandas as pd\n",
    "import numpy as np\n",
    "import seaborn as sn\n",
    "from matplotlib import pyplot as plt\n",
    "from pandas.api.types import is_string_dtype\n",
    "from pandas.api.types import is_numeric_dtype\n",
    "\n",
    "%matplotlib inline\n",
    "plt.rcParams['figure.figsize'] = [9.5, 6]"
   ]
  },
  {
   "cell_type": "code",
   "execution_count": 18,
   "metadata": {},
   "outputs": [
    {
     "data": {
      "text/html": [
       "<div>\n",
       "<style scoped>\n",
       "    .dataframe tbody tr th:only-of-type {\n",
       "        vertical-align: middle;\n",
       "    }\n",
       "\n",
       "    .dataframe tbody tr th {\n",
       "        vertical-align: top;\n",
       "    }\n",
       "\n",
       "    .dataframe thead th {\n",
       "        text-align: right;\n",
       "    }\n",
       "</style>\n",
       "<table border=\"1\" class=\"dataframe\">\n",
       "  <thead>\n",
       "    <tr style=\"text-align: right;\">\n",
       "      <th></th>\n",
       "      <th>uid</th>\n",
       "      <th>id</th>\n",
       "      <th>phone</th>\n",
       "      <th>email</th>\n",
       "      <th>first_name</th>\n",
       "      <th>last_name</th>\n",
       "      <th>gender</th>\n",
       "      <th>birthday</th>\n",
       "      <th>location</th>\n",
       "      <th>hometown</th>\n",
       "      <th>relationship_status</th>\n",
       "      <th>date</th>\n",
       "      <th>quantity</th>\n",
       "      <th>price</th>\n",
       "      <th>brand</th>\n",
       "      <th>category</th>\n",
       "      <th>type</th>\n",
       "      <th>detail</th>\n",
       "    </tr>\n",
       "  </thead>\n",
       "  <tbody>\n",
       "    <tr>\n",
       "      <th>0</th>\n",
       "      <td>100034704393808</td>\n",
       "      <td>AG2004022</td>\n",
       "      <td>XXXXXXX7647</td>\n",
       "      <td>NaN</td>\n",
       "      <td>Andres</td>\n",
       "      <td>Cuasquen</td>\n",
       "      <td>male</td>\n",
       "      <td>NaN</td>\n",
       "      <td>Tulcan</td>\n",
       "      <td>Tulcan</td>\n",
       "      <td>Single</td>\n",
       "      <td>2021-06-01</td>\n",
       "      <td>2</td>\n",
       "      <td>259.0</td>\n",
       "      <td>Elite</td>\n",
       "      <td>Accesorios</td>\n",
       "      <td>Ciclosimuladores</td>\n",
       "      <td>CICLOSIMULADOR NOVO FORCE</td>\n",
       "    </tr>\n",
       "    <tr>\n",
       "      <th>1</th>\n",
       "      <td>100010415584337</td>\n",
       "      <td>AG2004006</td>\n",
       "      <td>XXXXXXX2501</td>\n",
       "      <td>NaN</td>\n",
       "      <td>Nelson</td>\n",
       "      <td>Nazamuez</td>\n",
       "      <td>male</td>\n",
       "      <td>NaN</td>\n",
       "      <td>Tulcan</td>\n",
       "      <td>Tulcan</td>\n",
       "      <td>NaN</td>\n",
       "      <td>2021-06-01</td>\n",
       "      <td>1</td>\n",
       "      <td>265.0</td>\n",
       "      <td>Eagle</td>\n",
       "      <td>Bicicletas</td>\n",
       "      <td>Paseo</td>\n",
       "      <td>Eagle City Bike Aro 700 Cuadro Aluminio</td>\n",
       "    </tr>\n",
       "    <tr>\n",
       "      <th>2</th>\n",
       "      <td>100001924592151</td>\n",
       "      <td>AG2004001</td>\n",
       "      <td>XXXXXXX8732</td>\n",
       "      <td>NaN</td>\n",
       "      <td>Jhon</td>\n",
       "      <td>Caino</td>\n",
       "      <td>male</td>\n",
       "      <td>NaN</td>\n",
       "      <td>Tulcan</td>\n",
       "      <td>Tulcan</td>\n",
       "      <td>NaN</td>\n",
       "      <td>2021-06-01</td>\n",
       "      <td>2</td>\n",
       "      <td>16.0</td>\n",
       "      <td>Shimano</td>\n",
       "      <td>Accesorios</td>\n",
       "      <td>Discos</td>\n",
       "      <td>Disco SHIMANO TX SM-RT10</td>\n",
       "    </tr>\n",
       "    <tr>\n",
       "      <th>3</th>\n",
       "      <td>100010415584337</td>\n",
       "      <td>AG2004024</td>\n",
       "      <td>XXXXXXX2501</td>\n",
       "      <td>NaN</td>\n",
       "      <td>Nelson</td>\n",
       "      <td>Nazamuez</td>\n",
       "      <td>male</td>\n",
       "      <td>NaN</td>\n",
       "      <td>Tulcan</td>\n",
       "      <td>Tulcan</td>\n",
       "      <td>NaN</td>\n",
       "      <td>2021-06-01</td>\n",
       "      <td>2</td>\n",
       "      <td>75.0</td>\n",
       "      <td>Lazer</td>\n",
       "      <td>Casco</td>\n",
       "      <td>Sport</td>\n",
       "      <td>CASCO JACKAL /MIPS</td>\n",
       "    </tr>\n",
       "    <tr>\n",
       "      <th>4</th>\n",
       "      <td>100000396260059</td>\n",
       "      <td>AG2004015</td>\n",
       "      <td>XXXXXXX4510</td>\n",
       "      <td>NaN</td>\n",
       "      <td>Cristofer</td>\n",
       "      <td>Rodriguez Portilla</td>\n",
       "      <td>male</td>\n",
       "      <td>06/10/1986</td>\n",
       "      <td>Tulcan</td>\n",
       "      <td>Tulcan</td>\n",
       "      <td>Married</td>\n",
       "      <td>2021-06-01</td>\n",
       "      <td>1</td>\n",
       "      <td>475.0</td>\n",
       "      <td>Giant</td>\n",
       "      <td>Bicicletas</td>\n",
       "      <td>Montanera</td>\n",
       "      <td>Talon 4 Aro 29 Aluminio</td>\n",
       "    </tr>\n",
       "  </tbody>\n",
       "</table>\n",
       "</div>"
      ],
      "text/plain": [
       "               uid         id        phone email first_name  \\\n",
       "0  100034704393808  AG2004022  XXXXXXX7647   NaN     Andres   \n",
       "1  100010415584337  AG2004006  XXXXXXX2501   NaN     Nelson   \n",
       "2  100001924592151  AG2004001  XXXXXXX8732   NaN       Jhon   \n",
       "3  100010415584337  AG2004024  XXXXXXX2501   NaN     Nelson   \n",
       "4  100000396260059  AG2004015  XXXXXXX4510   NaN  Cristofer   \n",
       "\n",
       "            last_name gender    birthday location hometown  \\\n",
       "0            Cuasquen   male         NaN   Tulcan   Tulcan   \n",
       "1            Nazamuez   male         NaN   Tulcan   Tulcan   \n",
       "2               Caino   male         NaN   Tulcan   Tulcan   \n",
       "3            Nazamuez   male         NaN   Tulcan   Tulcan   \n",
       "4  Rodriguez Portilla   male  06/10/1986   Tulcan   Tulcan   \n",
       "\n",
       "  relationship_status        date  quantity  price    brand    category  \\\n",
       "0              Single  2021-06-01         2  259.0    Elite  Accesorios   \n",
       "1                 NaN  2021-06-01         1  265.0    Eagle  Bicicletas   \n",
       "2                 NaN  2021-06-01         2   16.0  Shimano  Accesorios   \n",
       "3                 NaN  2021-06-01         2   75.0    Lazer       Casco   \n",
       "4             Married  2021-06-01         1  475.0    Giant  Bicicletas   \n",
       "\n",
       "               type                                   detail  \n",
       "0  Ciclosimuladores                CICLOSIMULADOR NOVO FORCE  \n",
       "1             Paseo  Eagle City Bike Aro 700 Cuadro Aluminio  \n",
       "2            Discos                 Disco SHIMANO TX SM-RT10  \n",
       "3             Sport                       CASCO JACKAL /MIPS  \n",
       "4         Montanera                  Talon 4 Aro 29 Aluminio  "
      ]
     },
     "execution_count": 18,
     "metadata": {},
     "output_type": "execute_result"
    }
   ],
   "source": [
    "# Obtenemos lod datos del archivo de ventas de bibicletas\n",
    "df = pd.read_csv('compradores_clean.csv')\n",
    "df.head()"
   ]
  },
  {
   "cell_type": "code",
   "execution_count": 19,
   "metadata": {},
   "outputs": [
    {
     "data": {
      "text/plain": [
       "gender                 object\n",
       "relationship_status    object\n",
       "quantity                int64\n",
       "brand                  object\n",
       "category               object\n",
       "type                   object\n",
       "priceBins              object\n",
       "dtype: object"
      ]
     },
     "execution_count": 19,
     "metadata": {},
     "output_type": "execute_result"
    }
   ],
   "source": [
    "df['priceBins'] = pd.cut(df['price'],10)\n",
    "df['priceBins'] = df['priceBins'].astype('str')\n",
    "df.drop(['uid', 'id','phone','email','first_name','last_name','birthday','date','location','hometown','detail','price'], axis=1, inplace=True)\n",
    "df.dtypes"
   ]
  },
  {
   "cell_type": "code",
   "execution_count": 20,
   "metadata": {},
   "outputs": [
    {
     "data": {
      "text/html": [
       "<div>\n",
       "<style scoped>\n",
       "    .dataframe tbody tr th:only-of-type {\n",
       "        vertical-align: middle;\n",
       "    }\n",
       "\n",
       "    .dataframe tbody tr th {\n",
       "        vertical-align: top;\n",
       "    }\n",
       "\n",
       "    .dataframe thead th {\n",
       "        text-align: right;\n",
       "    }\n",
       "</style>\n",
       "<table border=\"1\" class=\"dataframe\">\n",
       "  <thead>\n",
       "    <tr style=\"text-align: right;\">\n",
       "      <th></th>\n",
       "      <th>gender</th>\n",
       "      <th>relationship_status</th>\n",
       "      <th>quantity</th>\n",
       "      <th>brand</th>\n",
       "      <th>category</th>\n",
       "      <th>type</th>\n",
       "      <th>priceBins</th>\n",
       "    </tr>\n",
       "  </thead>\n",
       "  <tbody>\n",
       "    <tr>\n",
       "      <th>count</th>\n",
       "      <td>2103</td>\n",
       "      <td>731</td>\n",
       "      <td>2220.000000</td>\n",
       "      <td>2220</td>\n",
       "      <td>2220</td>\n",
       "      <td>2220</td>\n",
       "      <td>2220</td>\n",
       "    </tr>\n",
       "    <tr>\n",
       "      <th>unique</th>\n",
       "      <td>2</td>\n",
       "      <td>8</td>\n",
       "      <td>NaN</td>\n",
       "      <td>7</td>\n",
       "      <td>3</td>\n",
       "      <td>13</td>\n",
       "      <td>8</td>\n",
       "    </tr>\n",
       "    <tr>\n",
       "      <th>top</th>\n",
       "      <td>male</td>\n",
       "      <td>Single</td>\n",
       "      <td>NaN</td>\n",
       "      <td>Shimano</td>\n",
       "      <td>Accesorios</td>\n",
       "      <td>Montanera</td>\n",
       "      <td>(6.658, 142.2]</td>\n",
       "    </tr>\n",
       "    <tr>\n",
       "      <th>freq</th>\n",
       "      <td>1184</td>\n",
       "      <td>347</td>\n",
       "      <td>NaN</td>\n",
       "      <td>490</td>\n",
       "      <td>1119</td>\n",
       "      <td>369</td>\n",
       "      <td>1243</td>\n",
       "    </tr>\n",
       "    <tr>\n",
       "      <th>mean</th>\n",
       "      <td>NaN</td>\n",
       "      <td>NaN</td>\n",
       "      <td>1.177928</td>\n",
       "      <td>NaN</td>\n",
       "      <td>NaN</td>\n",
       "      <td>NaN</td>\n",
       "      <td>NaN</td>\n",
       "    </tr>\n",
       "    <tr>\n",
       "      <th>std</th>\n",
       "      <td>NaN</td>\n",
       "      <td>NaN</td>\n",
       "      <td>0.382538</td>\n",
       "      <td>NaN</td>\n",
       "      <td>NaN</td>\n",
       "      <td>NaN</td>\n",
       "      <td>NaN</td>\n",
       "    </tr>\n",
       "    <tr>\n",
       "      <th>min</th>\n",
       "      <td>NaN</td>\n",
       "      <td>NaN</td>\n",
       "      <td>1.000000</td>\n",
       "      <td>NaN</td>\n",
       "      <td>NaN</td>\n",
       "      <td>NaN</td>\n",
       "      <td>NaN</td>\n",
       "    </tr>\n",
       "    <tr>\n",
       "      <th>25%</th>\n",
       "      <td>NaN</td>\n",
       "      <td>NaN</td>\n",
       "      <td>1.000000</td>\n",
       "      <td>NaN</td>\n",
       "      <td>NaN</td>\n",
       "      <td>NaN</td>\n",
       "      <td>NaN</td>\n",
       "    </tr>\n",
       "    <tr>\n",
       "      <th>50%</th>\n",
       "      <td>NaN</td>\n",
       "      <td>NaN</td>\n",
       "      <td>1.000000</td>\n",
       "      <td>NaN</td>\n",
       "      <td>NaN</td>\n",
       "      <td>NaN</td>\n",
       "      <td>NaN</td>\n",
       "    </tr>\n",
       "    <tr>\n",
       "      <th>75%</th>\n",
       "      <td>NaN</td>\n",
       "      <td>NaN</td>\n",
       "      <td>1.000000</td>\n",
       "      <td>NaN</td>\n",
       "      <td>NaN</td>\n",
       "      <td>NaN</td>\n",
       "      <td>NaN</td>\n",
       "    </tr>\n",
       "    <tr>\n",
       "      <th>max</th>\n",
       "      <td>NaN</td>\n",
       "      <td>NaN</td>\n",
       "      <td>2.000000</td>\n",
       "      <td>NaN</td>\n",
       "      <td>NaN</td>\n",
       "      <td>NaN</td>\n",
       "      <td>NaN</td>\n",
       "    </tr>\n",
       "  </tbody>\n",
       "</table>\n",
       "</div>"
      ],
      "text/plain": [
       "       gender relationship_status     quantity    brand    category  \\\n",
       "count    2103                 731  2220.000000     2220        2220   \n",
       "unique      2                   8          NaN        7           3   \n",
       "top      male              Single          NaN  Shimano  Accesorios   \n",
       "freq     1184                 347          NaN      490        1119   \n",
       "mean      NaN                 NaN     1.177928      NaN         NaN   \n",
       "std       NaN                 NaN     0.382538      NaN         NaN   \n",
       "min       NaN                 NaN     1.000000      NaN         NaN   \n",
       "25%       NaN                 NaN     1.000000      NaN         NaN   \n",
       "50%       NaN                 NaN     1.000000      NaN         NaN   \n",
       "75%       NaN                 NaN     1.000000      NaN         NaN   \n",
       "max       NaN                 NaN     2.000000      NaN         NaN   \n",
       "\n",
       "             type       priceBins  \n",
       "count        2220            2220  \n",
       "unique         13               8  \n",
       "top     Montanera  (6.658, 142.2]  \n",
       "freq          369            1243  \n",
       "mean          NaN             NaN  \n",
       "std           NaN             NaN  \n",
       "min           NaN             NaN  \n",
       "25%           NaN             NaN  \n",
       "50%           NaN             NaN  \n",
       "75%           NaN             NaN  \n",
       "max           NaN             NaN  "
      ]
     },
     "execution_count": 20,
     "metadata": {},
     "output_type": "execute_result"
    }
   ],
   "source": [
    "df.describe(include='all')"
   ]
  },
  {
   "cell_type": "code",
   "execution_count": 21,
   "metadata": {},
   "outputs": [
    {
     "data": {
      "image/png": "[encoded data removed]",
      "text/plain": [
       "<Figure size 684x432 with 1 Axes>"
      ]
     },
     "metadata": {
      "needs_background": "light"
     },
     "output_type": "display_data"
    }
   ],
   "source": [
    "df.gender.value_counts().plot(kind='barh')\n",
    "plt.show()"
   ]
  },
  {
   "cell_type": "code",
   "execution_count": 22,
   "metadata": {},
   "outputs": [
    {
     "data": {
      "image/png": "[encoded data removed]",
      "text/plain": [
       "<Figure size 684x432 with 1 Axes>"
      ]
     },
     "metadata": {
      "needs_background": "light"
     },
     "output_type": "display_data"
    }
   ],
   "source": [
    "df.brand.value_counts().plot(kind='barh')\n",
    "plt.show()"
   ]
  },
  {
   "cell_type": "code",
   "execution_count": 23,
   "metadata": {},
   "outputs": [
    {
     "data": {
      "image/png": "[encoded data removed]",
      "text/plain": [
       "<Figure size 684x432 with 1 Axes>"
      ]
     },
     "metadata": {
      "needs_background": "light"
     },
     "output_type": "display_data"
    }
   ],
   "source": [
    "df.priceBins.value_counts().plot(kind='barh')\n",
    "plt.show()"
   ]
  },
  {
   "cell_type": "code",
   "execution_count": 24,
   "metadata": {},
   "outputs": [
    {
     "data": {
      "image/png": "[encoded data removed]",
      "text/plain": [
       "<Figure size 684x432 with 1 Axes>"
      ]
     },
     "metadata": {
      "needs_background": "light"
     },
     "output_type": "display_data"
    }
   ],
   "source": [
    "df.category.value_counts().plot(kind='barh')\n",
    "plt.show()"
   ]
  },
  {
   "cell_type": "code",
   "execution_count": null,
   "metadata": {},
   "outputs": [],
   "source": []
  }
 ],
 "metadata": {
  "interpreter": {
   "hash": "b1e703efd82e688d6473755e4ae1dd3ce257fcfb1a683cbd29218986fd6efe97"
  },
  "kernelspec": {
   "display_name": "Python 3.9.5 64-bit ('3.9.5': pyenv)",
   "language": "python",
   "name": "python3"
  },
  "language_info": {
   "codemirror_mode": {
    "name": "ipython",
    "version": 3
   },
   "file_extension": ".py",
   "mimetype": "text/x-python",
   "name": "python",
   "nbconvert_exporter": "python",
   "pygments_lexer": "ipython3",
   "version": "3.10.2"
  },
  "orig_nbformat": 4
 },
 "nbformat": 4,
 "nbformat_minor": 2
}
